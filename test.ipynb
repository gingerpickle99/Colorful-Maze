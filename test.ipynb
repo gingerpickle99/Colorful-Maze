{
 "cells": [
  {
   "cell_type": "code",
   "execution_count": 1,
   "metadata": {},
   "outputs": [],
   "source": [
    "from tri_color_bfs import bfs_modified"
   ]
  },
  {
   "attachments": {},
   "cell_type": "markdown",
   "metadata": {},
   "source": [
    "<img src=\"image.png\" alt=\"My Image\" width=\"400\" height=\"300\">\n"
   ]
  },
  {
   "cell_type": "code",
   "execution_count": 2,
   "metadata": {},
   "outputs": [],
   "source": [
    "red={0:[1,4],1:[5],2:[7],3:[],4:[0,9],5:[1],6:[],7:[2,11],8:[9],9:[4,8,10],10:[9,11,14],11:[7,10],12:[13],13:[12],14:[10],15:[]}\n",
    "yellow={0:[],1:[2],2:[1,6],3:[7],4:[5,8],5:[4,10],6:[2,7,11],7:[3,6],8:[4,12],9:[13,14],10:[5,15],11:[6],12:[8],13:[9],14:[9],15:[10]}\n",
    "blue={0:[5],1:[6],2:[3],3:[2],4:[],5:[0,6,9],6:[1,5,10],7:[],8:[13],9:[5],10:[6],11:[15],12:[],13:[8,14],14:[13,15],15:[11,14]}\n",
    "graph=(red,yellow,blue,16)\n"
   ]
  },
  {
   "cell_type": "code",
   "execution_count": 3,
   "metadata": {},
   "outputs": [
    {
     "name": "stdout",
     "output_type": "stream",
     "text": [
      "\n",
      "1.Path exists from s with red edge and ends at t with blue edge by satisfying the rules of the maze.\n",
      "2.minimum no.of edges required to go from s to t is: 12 edges\n",
      "3.The path from s to t is: \n",
      "0--red--> 4--yellow--> 5--blue--> 9--red--> 10--yellow--> 15--blue--> 11--red--> 7--yellow--> 6--blue--> 10--red--> 9--yellow--> 14--blue--> 15\n"
     ]
    }
   ],
   "source": [
    "bfs_modified(graph,0,15)"
   ]
  },
  {
   "cell_type": "code",
   "execution_count": null,
   "metadata": {},
   "outputs": [],
   "source": []
  }
 ],
 "metadata": {
  "kernelspec": {
   "display_name": "base",
   "language": "python",
   "name": "python3"
  },
  "language_info": {
   "codemirror_mode": {
    "name": "ipython",
    "version": 3
   },
   "file_extension": ".py",
   "mimetype": "text/x-python",
   "name": "python",
   "nbconvert_exporter": "python",
   "pygments_lexer": "ipython3",
   "version": "3.9.13"
  },
  "orig_nbformat": 4
 },
 "nbformat": 4,
 "nbformat_minor": 2
}
